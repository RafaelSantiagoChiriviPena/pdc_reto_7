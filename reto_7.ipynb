{
 "cells": [
  {
   "cell_type": "code",
   "execution_count": null,
   "metadata": {},
   "outputs": [],
   "source": [
    "## reto 7 1\n",
    "i : int = 1     # se indica una constante i a la cual anclar el while\n",
    "if __name__ == \"__main__\":\n",
    "    while i <= 100:     # condicion del ejercicio \n",
    "        i_cuadrado = i ** 2     # operacion de cuadrado para i\n",
    "        print(f\"EL cuadrado de {i} es {i_cuadrado}\")\n",
    "        i += 1      # escalado para la constante"
   ]
  },
  {
   "cell_type": "code",
   "execution_count": null,
   "metadata": {},
   "outputs": [],
   "source": [
    "##reto 7 2\n",
    "par : int = 2       # constante par\n",
    "impar : int = 1     # constante impar\n",
    "if __name__ == \"__main__\":\n",
    "    print (\"Numeros impares\")\n",
    "    while impar <= 999:     # condicion del ejercicio \n",
    "        print(impar)\n",
    "        impar += 2      # escalado para la constante\n",
    "    print(\"Numeros pares\")\n",
    "    while par <= 1000:      # condicion del ejercicio \n",
    "        print(par)\n",
    "        par += 2        # escalado para la constante"
   ]
  },
  {
   "cell_type": "code",
   "execution_count": null,
   "metadata": {},
   "outputs": [],
   "source": [
    "##reto 7 3\n",
    "if __name__ == \"__main__\":\n",
    "    try:\n",
    "        n : int = int(input(\"Por favor, ingrese un entero: \"))    #ingreso de entero n\n",
    "        while n < 2:\n",
    "            n = int(input(\"El entero ingresado debe ser mayor o igual que 2, por favor intentelo de nuevo\"))\n",
    "        if n%2 != 0: #de impar a par\n",
    "            n -= 1\n",
    "        if n%2 == 0:\n",
    "            while n >= 2: # condicion del ejercicio  \n",
    "                print(n)\n",
    "                n -= 2 #escalado para la variable\n",
    "    except ValueError:\n",
    "        print(\"El valor ingresado no se trata de un numero entero\")"
   ]
  },
  {
   "cell_type": "code",
   "execution_count": null,
   "metadata": {},
   "outputs": [],
   "source": [
    "##reto 7 4\n",
    "A : float = 25000000    #constante de poblacion A\n",
    "B : float = 18900000    #constante de poblacion B\n",
    "anio = 2022\n",
    "if __name__ == \"__main__\":\n",
    "    print(f\"para el año {anio} el pais A tiene una poblacion de {A} habitantes, mientras que el pais B cuenta con {B} habitantes \\n habiendo una diferencia de {A - B} habitantes\")\n",
    "    while B < A:    # condicion del ejercicio \n",
    "        A += (A * 2) / 100      # crecimiento poblacional A\n",
    "        B += (B * 3) / 100      # crecimiento poblacional B\n",
    "        anio += 1   # escalado para la constante año\n",
    "    print(f\"para el año {anio} el pais A tiene una poblacion de {A} habitantes, mientras que el pais B cuenta con {B} habitantes \\n habiendo una diferencia de {B - A}\")\n"
   ]
  },
  {
   "cell_type": "code",
   "execution_count": null,
   "metadata": {},
   "outputs": [],
   "source": [
    "## reto 7 5\n",
    "fact : int = 1      #constante \n",
    "numero : int = 1    #constante\n",
    "if __name__ == \"__main__\":\n",
    "    try:\n",
    "        n : int = int(input(\"Ingrese un numero entero positivo al que obtener el factorial: \")) #ingreso de numero para aplicar operacion\n",
    "        while n < 0:\n",
    "            n = int(input(\"El numero ingresado no se trataba de un entero positivo, por favor intentelo de nuevo: \"))\n",
    "        while n > 1: #limite de regresion\n",
    "            fact = fact * n #operacion de factorial\n",
    "            n -= 1 #regresion hasta 1\n",
    "            numero += 1\n",
    "        if n == 0: #caso especial 0!\n",
    "            fact = 1\n",
    "            numero = 0\n",
    "        print(f\"el factorial del numero ingresado {numero} es {fact}\")\n",
    "    except ValueError:\n",
    "        print(\"El numero ingresado no se trata de un numero entero\")"
   ]
  },
  {
   "cell_type": "code",
   "execution_count": null,
   "metadata": {},
   "outputs": [],
   "source": [
    "## reto 7 6\n",
    "import random       # se importa la libreria random para generar el numero\n",
    "if __name__ == \"__main__\":\n",
    "    try: \n",
    "        adiv : int = random.randint(1, 100)     # generar el numero y asignarlo a una variable\n",
    "        intento : int = input(\"Por favor, trate de adivinar el numero generado por la maquina, este se encuentra entre 1 y 100: \")      # ingreso del valor para adivinar\n",
    "        while str(intento) != str(adiv):    # ciclo hasta adivinar\n",
    "            if str(intento) > str(adiv):    # caso adivinanza mayor que numero generado\n",
    "                intento = int(input(\"El numero ingresado esta por encima del numero generado, por favor, intentelo de nuevo: \"))\n",
    "            if str(intento) < str(adiv):    # caso adivinanza mayor que numero generado\n",
    "                intento = int(input(\"El numero ingresado esta por debajo del numero generado, por favor, intentelo de nuevo: \"))\n",
    "        print(f\"Felicidades! has adivinado el numero generado, este era {adiv}\")\n",
    "    except ValueError:\n",
    "        print(\"El valor ingresado no se trata de un numero entero\")"
   ]
  },
  {
   "cell_type": "code",
   "execution_count": null,
   "metadata": {},
   "outputs": [],
   "source": [
    "## reto 7 7\n",
    "i : int = 1 #constante denominador\n",
    "if __name__ == \"__main__\":\n",
    "    try: \n",
    "        n : int = int(input(\"Por favor, ingrese un numero entero entre 2 y 50: \")) #ingreso de entero n dentro del rango\n",
    "        while n < 2 or n > 50:\n",
    "            n = int(input(\"El numero ingresado no se encuentra dentro del rango establecido, por favor intentelo de nuevo: \"))\n",
    "        while i <= n:   #rango para la evaluacion de denominadores hasta n/n\n",
    "            divisor = n/i\n",
    "            if divisor % 1 == 0: #condicion para que i sea divisor de n\n",
    "                print(f\"{i} es divisor de {n}\")\n",
    "            i += 1      #escalado para el denominador\n",
    "    except ValueError:\n",
    "        print(\"El numero ingresado no se trata de un numero entero\")"
   ]
  },
  {
   "cell_type": "code",
   "execution_count": null,
   "metadata": {},
   "outputs": [],
   "source": [
    "## reto 7 8\n",
    "def primo (n : int = 1, i : int = 1,) -> str:\n",
    "    while n <= 100:     #delimitacion del rango 1 a 100\n",
    "        i = 1\n",
    "        while i <= n - 1: #rango para la evaluacion de denominadores hasta n/n\n",
    "            divisor = n / i\n",
    "            if divisor % 1 == 0 and n == 2:     #caso especial n = 2 siendo primo\n",
    "                print(f\"{n} es un numero primo \\n\")\n",
    "            if divisor % 1 == 0 and i != 1:     #condicion para no primos, excluyendo a n/1\n",
    "                print(f\"{n} no es un numero primo \\n\")\n",
    "                break\n",
    "            if divisor % 1 != 0 and i == n - 1: #condicion para primos\n",
    "                print(f\"{n} es un numero primo \\n\")\n",
    "            i += 1  #escalado para el denominador\n",
    "        n = n + 1   #escalado de 1 a 100\n",
    "if __name__ == \"__main__\":\n",
    "    primo()"
   ]
  }
 ],
 "metadata": {
  "kernelspec": {
   "display_name": "Python 3",
   "language": "python",
   "name": "python3"
  },
  "language_info": {
   "codemirror_mode": {
    "name": "ipython",
    "version": 3
   },
   "file_extension": ".py",
   "mimetype": "text/x-python",
   "name": "python",
   "nbconvert_exporter": "python",
   "pygments_lexer": "ipython3",
   "version": "3.12.2"
  }
 },
 "nbformat": 4,
 "nbformat_minor": 2
}
